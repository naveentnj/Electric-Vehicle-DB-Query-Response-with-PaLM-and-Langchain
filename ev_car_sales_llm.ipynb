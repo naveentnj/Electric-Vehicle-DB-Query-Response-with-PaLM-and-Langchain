{
 "cells": [
  {
   "cell_type": "code",
   "execution_count": 1,
   "metadata": {},
   "outputs": [],
   "source": [
    "from langchain.llms import GooglePalm\n",
    "import os\n",
    "from dotenv import load_dotenv\n",
    "load_dotenv() \n",
    "\n",
    "api_key = os.environ[\"GOOGLE_API_KEY\"]\n",
    "\n",
    "llm = GooglePalm(google_api_key=api_key, temperature=0.2)"
   ]
  },
  {
   "cell_type": "code",
   "execution_count": 2,
   "metadata": {},
   "outputs": [],
   "source": [
    "from langchain.utilities import SQLDatabase\n",
    "from langchain_experimental.sql import SQLDatabaseChain\n",
    "from sqlalchemy import create_engine"
   ]
  },
  {
   "cell_type": "code",
   "execution_count": 3,
   "metadata": {},
   "outputs": [
    {
     "name": "stderr",
     "output_type": "stream",
     "text": [
      "C:\\Users\\Naveen\\AppData\\Local\\Temp\\ipykernel_25572\\2588683582.py:6: SAWarning: No driver name specified; this is expected by PyODBC when using DSN-less connections\n",
      "  engine = create_engine(Database_Connect)\n"
     ]
    },
    {
     "name": "stdout",
     "output_type": "stream",
     "text": [
      "\n",
      "CREATE TABLE [TestTable] (\n",
      "\t[IDName] NVARCHAR(25) COLLATE SQL_Latin1_General_CP1_CI_AS NULL\n",
      ")\n",
      "\n",
      "/*\n",
      "3 rows from TestTable table:\n",
      "IDName\n",
      "Nir10ma0la1\n",
      "1A0ru0na2\n",
      "S1h00ashi3\n",
      "*/\n",
      "\n",
      "\n",
      "CREATE TABLE discounts (\n",
      "\tdiscount_id INTEGER NOT NULL IDENTITY(1,1), \n",
      "\tev_car_id SMALLINT NOT NULL, \n",
      "\tpercentage_discount DECIMAL(5, 2) NULL, \n",
      "\tCONSTRAINT [PK__discount__BDBE9EF9722F0DC0] PRIMARY KEY (discount_id), \n",
      "\tCONSTRAINT [FK__discounts__ev_ca__7B5B524B] FOREIGN KEY(ev_car_id) REFERENCES ev_cars (ev_car_id)\n",
      ")\n",
      "\n",
      "/*\n",
      "3 rows from discounts table:\n",
      "discount_id\tev_car_id\tpercentage_discount\n",
      "1\t1\t10.00\n",
      "2\t2\t15.00\n",
      "3\t3\t20.00\n",
      "*/\n",
      "\n",
      "\n",
      "CREATE TABLE ev_cars (\n",
      "\tev_car_id SMALLINT NOT NULL, \n",
      "\tbrand NVARCHAR(50) COLLATE SQL_Latin1_General_CP1_CI_AS NOT NULL, \n",
      "\tcolor NVARCHAR(50) COLLATE SQL_Latin1_General_CP1_CI_AS NOT NULL, \n",
      "\tmodel NVARCHAR(50) COLLATE SQL_Latin1_General_CP1_CI_AS NOT NULL, \n",
      "\tprice INTEGER NOT NULL, \n",
      "\tstock TINYINT NOT NULL, \n",
      "\tCONSTRAINT [PK_ev_cars] PRIMARY KEY (ev_car_id)\n",
      ")\n",
      "\n",
      "/*\n",
      "3 rows from ev_cars table:\n",
      "ev_car_id\tbrand\tcolor\tmodel\tprice\tstock\n",
      "1\tFord\tRed\tcustomized\t2098501\t149\n",
      "2\tTesla\tGreen\tmid-range\t937802\t155\n",
      "3\tFord\tBlue\tmid-range\t607942\t55\n",
      "*/\n"
     ]
    }
   ],
   "source": [
    "db_driver = \"ODBC Driver 17 for SQL Server\"\n",
    "db_server = \"NAVEENTAMIZHAN\"\n",
    "db_name = \"nav_electric_vehicles\"\n",
    "Database_Connect = f\"mssql://@{db_server}/{db_name}?Driver={db_driver}\"\n",
    "\n",
    "engine = create_engine(Database_Connect)\n",
    "db = SQLDatabase(engine, sample_rows_in_table_info=3)\n",
    "\n",
    "print(db.table_info)"
   ]
  },
  {
   "cell_type": "code",
   "execution_count": 4,
   "metadata": {},
   "outputs": [
    {
     "name": "stdout",
     "output_type": "stream",
     "text": [
      "\n",
      "\n",
      "\u001b[1m> Entering new SQLDatabaseChain chain...\u001b[0m\n",
      "How many tesla do we have left for tesla in premium model and white color?\n",
      "SQLQuery:\u001b[32;1m\u001b[1;3mSELECT stock FROM ev_cars WHERE brand = 'Tesla' AND model = 'premium' AND color = 'white'\u001b[0m\n",
      "SQLResult: \u001b[33;1m\u001b[1;3m\u001b[0m\n",
      "Answer:\u001b[32;1m\u001b[1;3m155\u001b[0m\n",
      "\u001b[1m> Finished chain.\u001b[0m\n"
     ]
    }
   ],
   "source": [
    "db_chain = SQLDatabaseChain.from_llm(llm, db, verbose=True)\n",
    "qns1 = db_chain(\"How many tesla do we have left for tesla in premium model and white color?\")"
   ]
  },
  {
   "cell_type": "code",
   "execution_count": null,
   "metadata": {},
   "outputs": [],
   "source": []
  }
 ],
 "metadata": {
  "interpreter": {
   "hash": "17e3749a86f3ada9223fe17fe9475c10770b83f16bc57866631fe5eff1031820"
  },
  "kernelspec": {
   "display_name": "Python 3.9.16 64-bit (conda)",
   "language": "python",
   "name": "python3"
  },
  "language_info": {
   "codemirror_mode": {
    "name": "ipython",
    "version": 3
   },
   "file_extension": ".py",
   "mimetype": "text/x-python",
   "name": "python",
   "nbconvert_exporter": "python",
   "pygments_lexer": "ipython3",
   "version": "3.9.16"
  },
  "orig_nbformat": 4
 },
 "nbformat": 4,
 "nbformat_minor": 2
}
