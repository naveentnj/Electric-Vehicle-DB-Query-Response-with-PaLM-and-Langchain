{
 "cells": [
  {
   "cell_type": "code",
   "execution_count": 1,
   "metadata": {},
   "outputs": [],
   "source": [
    "from langchain.llms import GooglePalm\n",
    "import os\n",
    "from dotenv import load_dotenv\n",
    "load_dotenv() \n",
    "\n",
    "api_key = os.environ[\"GOOGLE_API_KEY\"]\n",
    "\n",
    "llm = GooglePalm(google_api_key=api_key, temperature=0.2)"
   ]
  },
  {
   "cell_type": "code",
   "execution_count": 3,
   "metadata": {},
   "outputs": [],
   "source": [
    "from langchain.utilities import SQLDatabase\n",
    "from langchain_experimental.sql import SQLDatabaseChain\n",
    "from sqlalchemy import create_engine"
   ]
  },
  {
   "cell_type": "code",
   "execution_count": null,
   "metadata": {},
   "outputs": [],
   "source": [
    "db_driver = \"ODBC Driver 17 for SQL Server\"\n",
    "db_server = \"NAVEENTAMIZHAN\"\n",
    "db_name = \"nav_electric_vehicles\"\n",
    "Database_Connect = f\"mssql://@{db_server}/{db_name}?Driver={db_driver}\"\n",
    "\n",
    "engine = create_engine(Database_Connect)\n",
    "db = SQLDatabase(engine, sample_rows_in_table_info=3)\n",
    "\n",
    "print(db.table_info)"
   ]
  },
  {
   "cell_type": "code",
   "execution_count": null,
   "metadata": {},
   "outputs": [],
   "source": [
    "db_chain = SQLDatabaseChain.from_llm(llm, db, verbose=True)\n",
    "qns1 = db_chain(\"How many tesla do we have left for tesla in premium model and white color?\")"
   ]
  }
 ],
 "metadata": {
  "interpreter": {
   "hash": "17e3749a86f3ada9223fe17fe9475c10770b83f16bc57866631fe5eff1031820"
  },
  "kernelspec": {
   "display_name": "Python 3.9.16 64-bit (conda)",
   "language": "python",
   "name": "python3"
  },
  "language_info": {
   "codemirror_mode": {
    "name": "ipython",
    "version": 3
   },
   "file_extension": ".py",
   "mimetype": "text/x-python",
   "name": "python",
   "nbconvert_exporter": "python",
   "pygments_lexer": "ipython3",
   "version": "3.9.16"
  },
  "orig_nbformat": 4
 },
 "nbformat": 4,
 "nbformat_minor": 2
}
